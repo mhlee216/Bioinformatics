{
 "cells": [
  {
   "cell_type": "markdown",
   "metadata": {},
   "source": [
    "# Mothur 파일 분석"
   ]
  },
  {
   "cell_type": "markdown",
   "metadata": {},
   "source": [
    "#### $ ls F3D* > sample_names.txt"
   ]
  },
  {
   "cell_type": "code",
   "execution_count": 1,
   "metadata": {},
   "outputs": [],
   "source": [
    "code = 'M00967_43_000000000-A3JHG_1_1112_12525_16426'"
   ]
  },
  {
   "cell_type": "code",
   "execution_count": 2,
   "metadata": {},
   "outputs": [],
   "source": [
    "read_sample_names = open(\"./MiSeq_SOP/sample_names.txt\", 'r')\n",
    "sample_names = []\n",
    "data = read_sample_names.read()\n",
    "data = data.split('\\n')\n",
    "for i in data : \n",
    "    list_data = i.split('\\t')\n",
    "    sample_names.append(list_data)\n",
    "sample_names = sample_names[:-1]\n",
    "read_sample_names.close()"
   ]
  },
  {
   "cell_type": "code",
   "execution_count": 3,
   "metadata": {
    "scrolled": true
   },
   "outputs": [
    {
     "name": "stdout",
     "output_type": "stream",
     "text": [
      "F3D9_S197_L001_R1_001.fastq\n",
      "@M00967:43:000000000-A3JHG:1:1112:12525:16426 1:N:0:197\n",
      "\n",
      "F3D9_S197_L001_R2_001.fastq\n",
      "@M00967:43:000000000-A3JHG:1:1112:12525:16426 2:N:0:197\n",
      "\n"
     ]
    }
   ],
   "source": [
    "for n in range(len(sample_names)) : \n",
    "    read_find_names = open(\"./MiSeq_SOP/\"+str(sample_names[n])[2:-2], 'r')\n",
    "    find_names = []\n",
    "    data = read_find_names.read()\n",
    "    data = data.split('\\n')\n",
    "    for i in data : \n",
    "        if '@M00' in i : \n",
    "            list_data = i.split('\\t')\n",
    "            # print(list_data)\n",
    "            find_names.append(list_data)\n",
    "            if code.replace('_', ':') in i : \n",
    "                print(str(sample_names[n])[2:-2])\n",
    "                print(i)\n",
    "                print()\n",
    "                sample_fq_2 = str(sample_names[n])[2:-2]\n",
    "\n",
    "read_find_names.close()"
   ]
  },
  {
   "cell_type": "code",
   "execution_count": 4,
   "metadata": {},
   "outputs": [
    {
     "name": "stdout",
     "output_type": "stream",
     "text": [
      "샘플 이름 : F3D9\n"
     ]
    }
   ],
   "source": [
    "read_find_names = open(\"./MiSeq_SOP/test.files\", 'r')\n",
    "find_names = []\n",
    "data = read_find_names.read()\n",
    "data = data.split('\\n')\n",
    "for i in data : \n",
    "    if sample_fq_2 in i : \n",
    "        sample_name = i.split('\\t')[0]\n",
    "        # 1. 이 서열은 어느 샘플에서 얻어진 것인지 샘플 이름을 밝히시오\n",
    "        print('샘플 이름 :', sample_name)"
   ]
  },
  {
   "cell_type": "code",
   "execution_count": 6,
   "metadata": {},
   "outputs": [
    {
     "name": "stdout",
     "output_type": "stream",
     "text": [
      "M00967_43_000000000-A3JHG_1_1104_7854_15472\n"
     ]
    }
   ],
   "source": [
    "read_sample_names = open(\"./MiSeq_SOP/test.trim.contigs.good.names\", 'r')\n",
    "sample_names = []\n",
    "data = read_sample_names.read()\n",
    "data = data.split('\\n')\n",
    "for i in data : \n",
    "    list_data = i.split('\\t')\n",
    "    sample_names.append(list_data)\n",
    "sample_names = sample_names[:-1]\n",
    "read_sample_names.close()\n",
    "\n",
    "for i in sample_names : \n",
    "    if code in str(i) : \n",
    "        origin_code = i[0]\n",
    "        # 2. 이 서열을 대표하는 고유 서열의 아이디를 밝히시오.\n",
    "        print(origin_code)"
   ]
  },
  {
   "cell_type": "code",
   "execution_count": 7,
   "metadata": {},
   "outputs": [
    {
     "data": {
      "text/plain": [
       "'M00967_43_000000000-A3JHG_1_1104_7854_15472'"
      ]
     },
     "execution_count": 7,
     "metadata": {},
     "output_type": "execute_result"
    }
   ],
   "source": [
    "origin_code"
   ]
  },
  {
   "cell_type": "code",
   "execution_count": 8,
   "metadata": {},
   "outputs": [
    {
     "name": "stdout",
     "output_type": "stream",
     "text": [
      "['M00967_43_000000000-A3JHG_1_1104_7854_15472', '5', '2,1', '6,1', '8,1', '16,1', '19,1']\n"
     ]
    }
   ],
   "source": [
    "read_sample_names = open(\"./MiSeq_SOP/test.trim.contigs.good.count_table\", 'r')\n",
    "sample_names = []\n",
    "data = read_sample_names.read()\n",
    "data = data.split('\\n')\n",
    "for i in data : \n",
    "    list_data = i.split('\\t')\n",
    "    sample_names.append(list_data)\n",
    "sample_names = sample_names[:-1]\n",
    "read_sample_names.close()\n",
    "\n",
    "count_list = []\n",
    "for i in sample_names : \n",
    "    if origin_code in i : \n",
    "        print(i)\n",
    "        count_list.append(i)\n",
    "        \n",
    "count_list = count_list[0]"
   ]
  },
  {
   "cell_type": "code",
   "execution_count": 9,
   "metadata": {},
   "outputs": [
    {
     "name": "stdout",
     "output_type": "stream",
     "text": [
      "1\n"
     ]
    }
   ],
   "source": [
    "sample_names_list =[]\n",
    "for o in range(0, 20) : \n",
    "    sample_names_list.append(sample_names[1][o].split(',')[1])\n",
    "    \n",
    "sample_names_list_num = int(sample_names_list.index(sample_name))+1\n",
    "\n",
    "for k in count_list[2:] : \n",
    "    if str(sample_names_list_num) == str(k.split(',')[0]) : \n",
    "        coun = k.split(',')[1]\n",
    "        print(coun)"
   ]
  },
  {
   "cell_type": "code",
   "execution_count": 10,
   "metadata": {},
   "outputs": [
    {
     "name": "stdout",
     "output_type": "stream",
     "text": [
      "F3D9 에서 전체 5 개 중에 1 개 있다.\n"
     ]
    }
   ],
   "source": [
    "print(sample_name, '에서 전체', count_list[1], '개 중에', coun, '개 있다.') "
   ]
  },
  {
   "cell_type": "code",
   "execution_count": 11,
   "metadata": {},
   "outputs": [
    {
     "data": {
      "text/plain": [
       "'5'"
      ]
     },
     "execution_count": 11,
     "metadata": {},
     "output_type": "execute_result"
    }
   ],
   "source": [
    "count_list[1]"
   ]
  },
  {
   "cell_type": "code",
   "execution_count": 12,
   "metadata": {},
   "outputs": [
    {
     "name": "stdout",
     "output_type": "stream",
     "text": [
      "total : 5 개이다.\n"
     ]
    }
   ],
   "source": [
    "read_sample_names = open(\"./MiSeq_SOP/test.trim.contigs.good.count_table\", 'r')\n",
    "sample_names = []\n",
    "data = read_sample_names.read()\n",
    "data = data.split('\\n')\n",
    "for i in data : \n",
    "    list_data = i.split('\\t')\n",
    "    sample_names.append(list_data)\n",
    "sample_names = sample_names[:-1]\n",
    "read_sample_names.close()\n",
    "\n",
    "for i in sample_names : \n",
    "    if origin_code in i : \n",
    "        print('total :', i[1], '개이다.')"
   ]
  },
  {
   "cell_type": "code",
   "execution_count": 13,
   "metadata": {},
   "outputs": [
    {
     "data": {
      "text/plain": [
       "'M00967_43_000000000-A3JHG_1_1104_7854_15472'"
      ]
     },
     "execution_count": 13,
     "metadata": {},
     "output_type": "execute_result"
    }
   ],
   "source": [
    "origin_code"
   ]
  },
  {
   "cell_type": "code",
   "execution_count": 14,
   "metadata": {},
   "outputs": [
    {
     "name": "stdout",
     "output_type": "stream",
     "text": [
      "Otu13\n",
      "Otu01\n",
      "Otu01\n",
      "Otu01\n",
      "Otu01\n",
      "Otu01\n"
     ]
    }
   ],
   "source": [
    "tax_list = open(\"./MiSeq_SOP/test.trim.contigs.good.unique.good.filter.unique.precluster.pick.pds.wang.pick.pick.tx.list\", 'r')\n",
    "tax_list_sample = []\n",
    "data = tax_list.read()\n",
    "data = data.split('\\n')\n",
    "for i in data : \n",
    "    list_data = i.split('\\t')\n",
    "    tax_list_sample.append(list_data)\n",
    "tax_list_sample = tax_list_sample[:-1]\n",
    "tax_list.close()\n",
    "\n",
    "tax_list = []\n",
    "for i in range(len(tax_list_sample)) : \n",
    "    for j in range(len(tax_list_sample[i])) : \n",
    "        if origin_code in tax_list_sample[i][j] : \n",
    "            phylo_otu = tax_list_sample[0][j]\n",
    "            print(phylo_otu)\n",
    "            tax_list.append(phylo_otu)"
   ]
  },
  {
   "cell_type": "markdown",
   "metadata": {},
   "source": [
    "#### 1 Genus 2 Family 3 Order 4 Class 5 Phylum 6 Kingdom\n",
    "가장 위 결과인 1 Genus를 선택한다."
   ]
  },
  {
   "cell_type": "code",
   "execution_count": 15,
   "metadata": {},
   "outputs": [
    {
     "data": {
      "text/plain": [
       "'Otu13'"
      ]
     },
     "execution_count": 15,
     "metadata": {},
     "output_type": "execute_result"
    }
   ],
   "source": [
    "phylo_otu_rename = 'Otu' + tax_list[0][-2:]\n",
    "phylo_otu_rename"
   ]
  },
  {
   "cell_type": "code",
   "execution_count": 16,
   "metadata": {},
   "outputs": [
    {
     "name": "stdout",
     "output_type": "stream",
     "text": [
      "Otu13 계통분류 결과 :\n",
      "Bacteria(100);Firmicutes(100);Clostridia(100);Clostridiales(100);Lachnospiraceae(100);Clostridium_XlVb(100);\n"
     ]
    }
   ],
   "source": [
    "cons_tax = open(\"./MiSeq_SOP/test.trim.contigs.good.unique.good.filter.unique.precluster.pick.pds.wang.pick.pick.tx.1.cons.taxonomy\", 'r')\n",
    "cons_tax_sample = []\n",
    "data = cons_tax.read()\n",
    "data = data.split('\\n')\n",
    "for i in data : \n",
    "    list_data = i.split('\\t')\n",
    "    cons_tax_sample.append(list_data)\n",
    "cons_tax_sample = cons_tax_sample[:-1]\n",
    "cons_tax.close()\n",
    "\n",
    "for i in cons_tax_sample : \n",
    "    if phylo_otu_rename == i[0] : \n",
    "        print(phylo_otu_rename, '계통분류 결과 :')\n",
    "        print(str(i[2:])[2:-2])"
   ]
  },
  {
   "cell_type": "code",
   "execution_count": 17,
   "metadata": {},
   "outputs": [
    {
     "data": {
      "text/plain": [
       "'M00967_43_000000000-A3JHG_1_1104_7854_15472'"
      ]
     },
     "execution_count": 17,
     "metadata": {},
     "output_type": "execute_result"
    }
   ],
   "source": [
    "origin_code"
   ]
  },
  {
   "cell_type": "code",
   "execution_count": 18,
   "metadata": {},
   "outputs": [
    {
     "name": "stdout",
     "output_type": "stream",
     "text": [
      "6. 고유 서열이 속해 있는 OTU : Otu242\n",
      "7. 이 OTU에 속하는 고유 서열의 수 : 1 개\n",
      "\n",
      "M00967_43_000000000-A3JHG_1_1104_7854_15472\n"
     ]
    }
   ],
   "source": [
    "otu = open(\"./MiSeq_SOP/test.trim.contigs.good.unique.good.filter.unique.precluster.pick.pick.pick.opti_mcc.list\", 'r')\n",
    "otu_data = []\n",
    "data = otu.read()\n",
    "data = data.split('\\n')\n",
    "for i in data : \n",
    "    list_data = i.split('\\t')\n",
    "    otu_data.append(list_data)\n",
    "otu_data = otu_data[:-1]\n",
    "otu.close()\n",
    "\n",
    "for n in range(len(otu_data[1])) : \n",
    "    if origin_code in otu_data[1][n] : \n",
    "        # 6. 이 고유 서열은 결과적으로 몇번 OTU에 속하는가?\n",
    "        otu_name = otu_data[0][n]\n",
    "        print('6. 고유 서열이 속해 있는 OTU :', otu_name)\n",
    "        # 7. 이 OTU에 속하는 고유 서열의 수는?\n",
    "        print('7. 이 OTU에 속하는 고유 서열의 수 :', otu_data[1][n].count('M'), '개')\n",
    "        print()\n",
    "        print(otu_data[1][n])"
   ]
  },
  {
   "cell_type": "code",
   "execution_count": 19,
   "metadata": {},
   "outputs": [
    {
     "name": "stdout",
     "output_type": "stream",
     "text": [
      "F3D9 에서는 Otu242 에 해당하는 서열이 1 번 관찰되었다.\n"
     ]
    }
   ],
   "source": [
    "otu = open(\"./MiSeq_SOP/test.trim.contigs.good.unique.good.filter.unique.precluster.pick.pick.pick.opti_mcc.shared\", 'r')\n",
    "otu_data = []\n",
    "data = otu.read()\n",
    "data = data.split('\\n')\n",
    "for i in data : \n",
    "    list_data = i.split('\\t')\n",
    "    otu_data.append(list_data)\n",
    "otu_data = otu_data[:-1]\n",
    "otu.close()\n",
    "\n",
    "for o in otu_data : \n",
    "    if sample_name in o : \n",
    "        ind = otu_data[0].index(otu_name)\n",
    "        # 8. 이 OTU가 1번 문제에서 답한 샘플에서 관찰된 빈도수는 얼만인가?\n",
    "        print(o[1], '에서는', otu_data[0][ind], '에 해당하는 서열이', o[ind], '번 관찰되었다.')"
   ]
  },
  {
   "cell_type": "code",
   "execution_count": 20,
   "metadata": {},
   "outputs": [
    {
     "name": "stdout",
     "output_type": "stream",
     "text": [
      "Otu242\n",
      "0\n",
      "1\n",
      "0\n",
      "0\n",
      "0\n",
      "1\n",
      "0\n",
      "1\n",
      "0\n",
      "0\n",
      "0\n",
      "0\n",
      "0\n",
      "0\n",
      "0\n",
      "1\n",
      "0\n",
      "0\n",
      "1\n",
      "총 합 : 5\n"
     ]
    }
   ],
   "source": [
    "otu = open(\"./MiSeq_SOP/test.trim.contigs.good.unique.good.filter.unique.precluster.pick.pick.pick.opti_mcc.shared\", 'r')\n",
    "otu_data = []\n",
    "data = otu.read()\n",
    "data = data.split('\\n')\n",
    "for i in data : \n",
    "    list_data = i.split('\\t')\n",
    "    otu_data.append(list_data)\n",
    "otu_data = otu_data[:-1]\n",
    "otu.close()\n",
    "\n",
    "ind = otu_data[0].index(otu_name)\n",
    "print(otu_data[0][ind])\n",
    "val_sum = 0\n",
    "for o in otu_data[1:] : \n",
    "    print(o[ind])\n",
    "    val_sum = val_sum + int(o[ind])\n",
    "    \n",
    "# 9. 이 OTU가 전체 데이터세트에서 관찰된 빈도수는 얼마인가?\n",
    "print('총 합 :', val_sum)"
   ]
  },
  {
   "cell_type": "code",
   "execution_count": 21,
   "metadata": {},
   "outputs": [
    {
     "name": "stdout",
     "output_type": "stream",
     "text": [
      "5\n"
     ]
    }
   ],
   "source": [
    "print(val_sum)"
   ]
  },
  {
   "cell_type": "code",
   "execution_count": 22,
   "metadata": {},
   "outputs": [
    {
     "name": "stdout",
     "output_type": "stream",
     "text": [
      "Otu242 에 할당된 계통분류 결과 :\n",
      "Bacteria(100);Firmicutes(100);Clostridia(100);Clostridiales(100);Lachnospiraceae(100);Clostridium_XlVb(100);\n"
     ]
    }
   ],
   "source": [
    "tax = open(\"./MiSeq_SOP/test.trim.contigs.good.unique.good.filter.unique.precluster.pick.pick.pick.opti_mcc.0.03.cons.taxonomy\", 'r')\n",
    "tax_data = []\n",
    "data = tax.read()\n",
    "data = data.split('\\n')\n",
    "for i in data : \n",
    "    list_data = i.split('\\t')\n",
    "    tax_data.append(list_data)\n",
    "tax_data = tax_data[:-1]\n",
    "tax.close()\n",
    "\n",
    "for o in tax_data : \n",
    "    if otu_name == o[0] : \n",
    "        print(o[0], '에 할당된 계통분류 결과 :')\n",
    "        print(str(o[2:])[2:-2])"
   ]
  },
  {
   "cell_type": "code",
   "execution_count": null,
   "metadata": {},
   "outputs": [],
   "source": []
  }
 ],
 "metadata": {
  "kernelspec": {
   "display_name": "Python 3",
   "language": "python",
   "name": "python3"
  },
  "language_info": {
   "codemirror_mode": {
    "name": "ipython",
    "version": 3
   },
   "file_extension": ".py",
   "mimetype": "text/x-python",
   "name": "python",
   "nbconvert_exporter": "python",
   "pygments_lexer": "ipython3",
   "version": "3.7.6"
  }
 },
 "nbformat": 4,
 "nbformat_minor": 4
}
